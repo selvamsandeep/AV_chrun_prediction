{
 "cells": [
  {
   "cell_type": "code",
   "execution_count": null,
   "metadata": {
    "collapsed": true
   },
   "outputs": [],
   "source": [
    "import numpy as np\n",
    "import pandas as pd\n",
    "%matplotlib inline\n",
    "import matplotlib.pyplot as plt\n",
    "import pandas_profiling as pd_prof\n",
    "import missingno as misno\n",
    "from sklearn.preprocessing import LabelEncoder\n",
    "from sklearn.model_selection import train_test_split\n",
    "import xgboost as xgb\n",
    "import lightgbm as lgb\n",
    "from subprocess import check_output\n",
    "print(check_output(['ls','input']).decode('utf8'))"
   ]
  },
  {
   "cell_type": "code",
   "execution_count": null,
   "metadata": {
    "collapsed": true
   },
   "outputs": [],
   "source": [
    "train = pd.read_csv('input/train.csv', low_memory=False)\n",
    "test = pd.read_csv('input/test.csv', low_memory=False)"
   ]
  },
  {
   "cell_type": "code",
   "execution_count": null,
   "metadata": {
    "collapsed": true
   },
   "outputs": [],
   "source": [
    "print(train.shape, test.shape)\n"
   ]
  },
  {
   "cell_type": "code",
   "execution_count": null,
   "metadata": {
    "collapsed": true
   },
   "outputs": [],
   "source": [
    "le = LabelEncoder()\n",
    "data_sets = [train,test]\n",
    "for data in data_sets:\n",
    "    for col in [x for x in data.columns if x not in ['UCIC_ID','Responders']]:\n",
    "        if data[col].dtypes == 'object':\n",
    "            data[col] = data[col].fillna('none')\n",
    "            data[col] = le.fit_transform(data[col])\n",
    "            if data[col].max() < 255:\n",
    "                data[col] = data[col].astype(np.int8)\n",
    "            else:\n",
    "                data[col] = data[col].astype(np.int32)\n",
    "                \n",
    "        if data[col].dtypes == 'int64':        \n",
    "            data[col] = data[col].fillna(-99).astype(np.int32)\n",
    "            \n",
    "        if data[col].dtypes == 'float64':        \n",
    "            data[col] = data[col].fillna(-99.0).astype(np.float32)"
   ]
  },
  {
   "cell_type": "code",
   "execution_count": null,
   "metadata": {
    "collapsed": true
   },
   "outputs": [],
   "source": [
    "constant_cols = []\n",
    "for col in [x for x in train.columns if x not in ['UCIC_ID','Responders']]:\n",
    "    if len(train[col].value_counts()) == 1:\n",
    "        constant_cols.append(col)"
   ]
  },
  {
   "cell_type": "code",
   "execution_count": null,
   "metadata": {
    "collapsed": true
   },
   "outputs": [],
   "source": [
    "for data in data_sets:\n",
    "    data.drop(constant_cols, inplace=True, axis=1)"
   ]
  },
  {
   "cell_type": "code",
   "execution_count": null,
   "metadata": {
    "collapsed": true
   },
   "outputs": [],
   "source": [
    "#test.head(5)"
   ]
  },
  {
   "cell_type": "code",
   "execution_count": null,
   "metadata": {
    "collapsed": true
   },
   "outputs": [],
   "source": [
    "responders= train['Responders'].values\n",
    "train.drop(['UCIC_ID','Responders'], inplace=True, axis=1)\n",
    "ucic_id = test['UCIC_ID'].values\n",
    "test.drop(['UCIC_ID'], inplace=True, axis=1)"
   ]
  },
  {
   "cell_type": "code",
   "execution_count": null,
   "metadata": {
    "collapsed": true
   },
   "outputs": [],
   "source": [
    "del data_sets"
   ]
  },
  {
   "cell_type": "code",
   "execution_count": null,
   "metadata": {
    "collapsed": true
   },
   "outputs": [],
   "source": [
    "params = {'learning_rate': 0.02, \n",
    "          'num_leaves':78,\n",
    "          'min_data_in_leaf': 130,\n",
    "          'max_depth': 6, \n",
    "          'colsample_bytree': 0.522,\n",
    "          'boosting': 'gbdt', \n",
    "          'objective': 'binary', \n",
    "          'metric': 'auc',           \n",
    "          'seed': 32}"
   ]
  },
  {
   "cell_type": "code",
   "execution_count": null,
   "metadata": {
    "collapsed": true
   },
   "outputs": [],
   "source": [
    "lgb_train = lgb.Dataset(train, label=responders)"
   ]
  },
  {
   "cell_type": "code",
   "execution_count": null,
   "metadata": {
    "collapsed": true
   },
   "outputs": [],
   "source": [
    "lgb_cv = lgb.cv(params, lgb_train, num_boost_round=3000, nfold= 4, shuffle=True, \n",
    "                stratified=True, verbose_eval=20, early_stopping_rounds=40)"
   ]
  },
  {
   "cell_type": "code",
   "execution_count": null,
   "metadata": {
    "collapsed": true
   },
   "outputs": [],
   "source": [
    "nround = lgb_cv['auc-mean'].index(np.max(lgb_cv['auc-mean']))\n",
    "#print(nround)"
   ]
  },
  {
   "cell_type": "code",
   "execution_count": null,
   "metadata": {
    "collapsed": true
   },
   "outputs": [],
   "source": [
    "model_0 = lgb.train(params, lgb_train, num_boost_round=nround)"
   ]
  },
  {
   "cell_type": "code",
   "execution_count": null,
   "metadata": {
    "collapsed": true
   },
   "outputs": [],
   "source": [
    "pred_0 = model_0.predict(test)"
   ]
  },
  {
   "cell_type": "code",
   "execution_count": null,
   "metadata": {
    "collapsed": true
   },
   "outputs": [],
   "source": [
    "future_df = pd.DataFrame({'futures':model_0.feature_name(),'score':model_0.feature_importance()})\n",
    "col_to_use = future_df[future_df['score'] > 20]['futures'].tolist()\n"
   ]
  },
  {
   "cell_type": "code",
   "execution_count": null,
   "metadata": {
    "collapsed": true
   },
   "outputs": [],
   "source": [
    "lgb_train = lgb.Dataset(train[col_to_use], label=responders)"
   ]
  },
  {
   "cell_type": "code",
   "execution_count": null,
   "metadata": {
    "collapsed": true
   },
   "outputs": [],
   "source": [
    "lgb_cv = lgb.cv(params, lgb_train, num_boost_round=3000, nfold= 4, shuffle=True, \n",
    "                stratified=True, verbose_eval=20, early_stopping_rounds=40)"
   ]
  },
  {
   "cell_type": "code",
   "execution_count": null,
   "metadata": {
    "collapsed": true
   },
   "outputs": [],
   "source": [
    "nround = lgb_cv['auc-mean'].index(np.max(lgb_cv['auc-mean']))\n",
    "#print(nround)"
   ]
  },
  {
   "cell_type": "code",
   "execution_count": null,
   "metadata": {
    "collapsed": true
   },
   "outputs": [],
   "source": [
    "model_1 = lgb.train(params, lgb_train, num_boost_round=nround)"
   ]
  },
  {
   "cell_type": "code",
   "execution_count": null,
   "metadata": {
    "collapsed": true
   },
   "outputs": [],
   "source": [
    "pred_1 = model_1.predict(test[col_to_use])"
   ]
  },
  {
   "cell_type": "code",
   "execution_count": null,
   "metadata": {
    "collapsed": true
   },
   "outputs": [],
   "source": [
    "future_df = pd.DataFrame({'futures':model_0.feature_name(),'score':model_0.feature_importance()})\n",
    "col_to_use = future_df[future_df['score'] > 50]['futures'].tolist()\n"
   ]
  },
  {
   "cell_type": "code",
   "execution_count": null,
   "metadata": {
    "collapsed": true
   },
   "outputs": [],
   "source": [
    "lgb_train = lgb.Dataset(train[col_to_use], label=responders)"
   ]
  },
  {
   "cell_type": "code",
   "execution_count": null,
   "metadata": {
    "collapsed": true
   },
   "outputs": [],
   "source": [
    "lgb_cv = lgb.cv(params, lgb_train, num_boost_round=3000, nfold= 4, shuffle=True, \n",
    "                stratified=True, verbose_eval=20, early_stopping_rounds=40)"
   ]
  },
  {
   "cell_type": "code",
   "execution_count": null,
   "metadata": {
    "collapsed": true
   },
   "outputs": [],
   "source": [
    "nround = lgb_cv['auc-mean'].index(np.max(lgb_cv['auc-mean']))"
   ]
  },
  {
   "cell_type": "code",
   "execution_count": null,
   "metadata": {
    "collapsed": true
   },
   "outputs": [],
   "source": [
    "model_2 = lgb.train(params, lgb_train, num_boost_round=nround)"
   ]
  },
  {
   "cell_type": "code",
   "execution_count": null,
   "metadata": {
    "collapsed": true
   },
   "outputs": [],
   "source": [
    "pred_2 = model_1.predict(test[col_to_use])"
   ]
  },
  {
   "cell_type": "code",
   "execution_count": null,
   "metadata": {
    "collapsed": true
   },
   "outputs": [],
   "source": [
    "sub = pd.DataFrame({'UCIC_ID':ucic_id, 'Responders':(pred_1 + pred_2)/2.})\n",
    "sub = sub[['UCIC_ID','Responders']] \n",
    "sub.head(5)"
   ]
  },
  {
   "cell_type": "code",
   "execution_count": null,
   "metadata": {
    "collapsed": true
   },
   "outputs": [],
   "source": [
    "sub.to_csv('lgb_v10.csv', index=False)"
   ]
  },
  {
   "cell_type": "code",
   "execution_count": null,
   "metadata": {
    "collapsed": true
   },
   "outputs": [],
   "source": []
  }
 ],
 "metadata": {
  "kernelspec": {
   "display_name": "Python 3",
   "language": "python",
   "name": "python3"
  },
  "language_info": {
   "codemirror_mode": {
    "name": "ipython",
    "version": 3
   },
   "file_extension": ".py",
   "mimetype": "text/x-python",
   "name": "python",
   "nbconvert_exporter": "python",
   "pygments_lexer": "ipython3",
   "version": "3.5.2"
  }
 },
 "nbformat": 4,
 "nbformat_minor": 2
}
