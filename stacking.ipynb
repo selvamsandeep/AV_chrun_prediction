{
 "cells": [
  {
   "cell_type": "code",
   "execution_count": 12,
   "metadata": {},
   "outputs": [
    {
     "name": "stdout",
     "output_type": "stream",
     "text": [
      "data_dict.xlsx\n",
      "sample_submission_fBo3EW5.csv\n",
      "test_9tJUnaB.zip\n",
      "test.csv\n",
      "train.csv\n",
      "train_zsTMYVA.zip\n",
      "\n"
     ]
    }
   ],
   "source": [
    "import numpy as np\n",
    "import pandas as pd\n",
    "import gc; gc.enable()\n",
    "from sklearn.preprocessing import LabelEncoder\n",
    "from sklearn.ensemble import GradientBoostingClassifier, ExtraTreesClassifier\n",
    "#from sklearn.cross_validation import KFold\n",
    "from sklearn.model_selection import StratifiedKFold\n",
    "import xgboost as xgb\n",
    "import lightgbm as lgb\n",
    "from rgf.sklearn import RGFClassifier \n",
    "from catboost import CatBoostClassifier\n",
    "from subprocess import check_output\n",
    "print(check_output(['ls', 'input']).decode('utf8'))"
   ]
  },
  {
   "cell_type": "code",
   "execution_count": 13,
   "metadata": {},
   "outputs": [
    {
     "name": "stdout",
     "output_type": "stream",
     "text": [
      "(300000, 377) (200000, 376)\n"
     ]
    }
   ],
   "source": [
    "train = pd.read_csv('input/train.csv', low_memory=False)\n",
    "test = pd.read_csv('input/test.csv', low_memory=False)\n",
    "print(train.shape, test.shape)"
   ]
  },
  {
   "cell_type": "code",
   "execution_count": 14,
   "metadata": {
    "collapsed": true
   },
   "outputs": [],
   "source": [
    "le = LabelEncoder()\n",
    "data_sets = [train,test]\n",
    "for data in data_sets:\n",
    "    for col in [x for x in data.columns if x not in ['UCIC_ID','Responders']]:\n",
    "        if data[col].dtypes == 'object':\n",
    "            data[col] = data[col].fillna('none')\n",
    "            data[col] = le.fit_transform(data[col])\n",
    "            if data[col].max() < 255:\n",
    "                data[col] = data[col].astype(np.int8)\n",
    "            else:\n",
    "                data[col] = data[col].astype(np.int32)\n",
    "                \n",
    "        if data[col].dtypes == 'int64':        \n",
    "            data[col] = data[col].fillna(-99).astype(np.int32)\n",
    "            \n",
    "        if data[col].dtypes == 'float64':        \n",
    "            data[col] = data[col].fillna(-99.0).astype(np.float32)"
   ]
  },
  {
   "cell_type": "code",
   "execution_count": 15,
   "metadata": {
    "collapsed": true
   },
   "outputs": [],
   "source": [
    "constant_cols = []\n",
    "for col in [x for x in train.columns if x not in ['UCIC_ID','Responders']]:\n",
    "    if len(train[col].value_counts()) == 1:\n",
    "        constant_cols.append(col)"
   ]
  },
  {
   "cell_type": "code",
   "execution_count": 6,
   "metadata": {
    "collapsed": true
   },
   "outputs": [],
   "source": [
    "for data in data_sets:\n",
    "    data.drop(constant_cols, inplace=True, axis=1)"
   ]
  },
  {
   "cell_type": "code",
   "execution_count": 16,
   "metadata": {},
   "outputs": [],
   "source": [
    "y_train= train['Responders'].values\n",
    "train.drop(['UCIC_ID','Responders'], inplace=True, axis=1)\n",
    "ucic_id = test['UCIC_ID'].values\n",
    "test.drop(['UCIC_ID'], inplace=True, axis=1)"
   ]
  },
  {
   "cell_type": "code",
   "execution_count": 17,
   "metadata": {},
   "outputs": [],
   "source": [
    "X_train = train.values\n",
    "X_test = test.values\n",
    "ntrain = train.shape[0]\n",
    "ntest= test.shape[0]\n",
    "NFOLDS = 3\n",
    "SEED = 4\n",
    "#kf = KFold(ntrain, n_folds=NFOLDS, shuffle=True, random_state=SEED)\n",
    "skf = list(StratifiedKFold(n_splits=NFOLDS, shuffle=True, random_state=2016).split(X_train, y_train))"
   ]
  },
  {
   "cell_type": "code",
   "execution_count": 19,
   "metadata": {},
   "outputs": [],
   "source": [
    "del data_sets, train, test"
   ]
  },
  {
   "cell_type": "code",
   "execution_count": 20,
   "metadata": {
    "collapsed": true
   },
   "outputs": [],
   "source": [
    "class BaseModels(object):\n",
    "    \n",
    "    def __init__(self, clf, seed=0, params=None):\n",
    "        #params['random_state'] = seed\n",
    "        self.clf = clf(**params)\n",
    "        \n",
    "    def train(self,X_train, y_train):\n",
    "        self.clf.fit(X_train, y_train)\n",
    "    \n",
    "    def predict(self, X):\n",
    "        return self.clf.predict_proba(X)[:,1]       \n",
    "        \n",
    "    \n",
    "class XgbModel(object):\n",
    "    \n",
    "    def __init__(self, seed=0, params=None):\n",
    "        self.params = params\n",
    "        self.params['seed'] = seed\n",
    "        self.nrounds = params.pop('nrouns', 250)\n",
    "        \n",
    "    def train(self, X_train, y_train):\n",
    "        dtrain = xgb.DMatrix(X_train, y_train)\n",
    "        self.mdl = xgb.train(self.params, dtrain, self.nrounds) \n",
    "        \n",
    "    def predict(self, X):\n",
    "        return self.mdl.predict(xgb.DMatrix(X))\n",
    "    "
   ]
  },
  {
   "cell_type": "code",
   "execution_count": 31,
   "metadata": {},
   "outputs": [],
   "source": [
    "def get_oof(clf, s):#, X_train, y_train, X_test):\n",
    "    oof_train = np.zeros((ntrain,))\n",
    "    oof_test = np.zeros((ntest,))\n",
    "    oof_test_kf = np.zeros((NFOLDS,ntest))\n",
    "    \n",
    "    for i, (train_idx, valid_idx) in enumerate(skf):\n",
    "        trn_X = X_train[train_idx]\n",
    "        trn_y = y_train[train_idx]\n",
    "        val_X = X_train[valid_idx]\n",
    "        \n",
    "        print (\"Fit Model %s fold %d\" % (s, i+1))\n",
    "        clf.train(trn_X, trn_y)\n",
    "        \n",
    "        oof_train[valid_idx] = clf.predict(val_X)\n",
    "        oof_test_kf[i,:] = clf.predict(X_test)\n",
    "        \n",
    "    oof_test[:] = oof_test_kf.mean(axis=0) \n",
    "    \n",
    "    return oof_train.reshape(-1,1), oof_test.reshape(-1,1)\n",
    "    "
   ]
  },
  {
   "cell_type": "code",
   "execution_count": 32,
   "metadata": {
    "collapsed": true
   },
   "outputs": [],
   "source": [
    "# Gradient Boosting parameters\n",
    "gb_params = {\n",
    "    'n_estimators': 500,\n",
    "     #'max_features': 0.2,\n",
    "    'max_depth': 5,\n",
    "    'min_samples_leaf': 2,\n",
    "    'verbose': 0\n",
    "}\n",
    "xgb_params = {\n",
    "    'seed': 0,\n",
    "    'colsample_bytree': 0.7,\n",
    "    'silent': 1,\n",
    "    'subsample': 0.7,\n",
    "    'learning_rate': 0.075,\n",
    "    'objective': 'binary:logistic',\n",
    "    'max_depth': 6,\n",
    "    'num_parallel_tree': 1,\n",
    "    'min_child_weight': 1,\n",
    "    'eval_metric': 'error',\n",
    "    'nrounds': 350\n",
    "}\n",
    "\n",
    "# LightGBM params\n",
    "lgb_params = {}\n",
    "lgb_params['learning_rate'] = 0.02\n",
    "lgb_params['n_estimators'] = 1800\n",
    "lgb_params['max_depth'] = 6\n",
    "lgb_params['max_bin'] = 10\n",
    "lgb_params['subsample'] = 0.8\n",
    "lgb_params['subsample_freq'] = 10\n",
    "lgb_params['colsample_bytree'] = 0.8   \n",
    "lgb_params['min_child_samples'] = 500\n",
    "\n",
    "# CatBoost params\n",
    "cat_params = {}\n",
    "cat_params['iterations'] = 900\n",
    "cat_params['depth'] = 8\n",
    "cat_params['rsm'] = 0.95\n",
    "cat_params['learning_rate'] = 0.03\n",
    "cat_params['l2_leaf_reg'] = 3.5  \n",
    "cat_params['border_count'] = 8\n",
    "cat_params['gradient_iterations'] = 4\n",
    "\n",
    "# Regularized Greedy Forest params\n",
    "rgf_params = {}\n",
    "rgf_params['max_leaf'] = 2000\n",
    "rgf_params['learning_rate'] = 0.5\n",
    "rgf_params['algorithm'] = \"RGF_Sib\"\n",
    "rgf_params['test_interval'] = 100\n",
    "rgf_params['min_samples_leaf'] = 3 \n",
    "rgf_params['reg_depth'] = 1.0\n",
    "rgf_params['l2'] = 0.5  \n",
    "rgf_params['sl2'] = 0.005\n",
    "rgf_params['n_jobs'] = -1\n"
   ]
  },
  {
   "cell_type": "code",
   "execution_count": 33,
   "metadata": {
    "collapsed": true
   },
   "outputs": [],
   "source": [
    "rgf = BaseModels(clf=RGFClassifier, seed=SEED, params=rgf_params)\n",
    "lg = BaseModels(clf=lgb.LGBMClassifier, seed=SEED, params=lgb_params)\n",
    "cb  = BaseModels(clf=CatBoostClassifier, seed=SEED, params=cat_params)\n",
    "gb = BaseModels(clf=GradientBoostingClassifier, seed=SEED, params=gb_params)\n",
    "xg = XgbModel(seed=SEED, params=xgb_params)"
   ]
  },
  {
   "cell_type": "code",
   "execution_count": 34,
   "metadata": {},
   "outputs": [
    {
     "name": "stdout",
     "output_type": "stream",
     "text": [
      "Fit Model RGF fold 1\n",
      "Fit Model RGF fold 2\n",
      "Fit Model RGF fold 3\n",
      "Fit Model LGB fold 1\n",
      "Fit Model LGB fold 2\n",
      "Fit Model LGB fold 3\n",
      "Fit Model GBC fold 1\n",
      "Fit Model GBC fold 2\n",
      "Fit Model GBC fold 3\n",
      "Fit Model CBC fold 1\n",
      "Fit Model CBC fold 2\n",
      "Fit Model CBC fold 3\n",
      "Fit Model XGB fold 1\n",
      "Fit Model XGB fold 2\n",
      "Fit Model XGB fold 3\n",
      "complete\n"
     ]
    }
   ],
   "source": [
    "rgf_oof_train, rgf_oof_test = get_oof(rgf, 'RGF')\n",
    "lg_oof_train, lg_oof_test = get_oof(lg, 'LGB')\n",
    "gb_oof_train, gb_oof_test = get_oof(gb, 'GBC')\n",
    "cb_oof_train, cb_oof_test = get_oof(cb, 'CBC' )\n",
    "xgb_oof_train, xgb_oof_test = get_oof(xg, 'XGB')\n",
    "print(\"complete\")"
   ]
  },
  {
   "cell_type": "raw",
   "metadata": {
    "collapsed": true
   },
   "source": [
    "from sklearn.metrics import accuracy_score\n",
    "#print(\"XG-CV: {}\".format(accuracy_score(y_train, xgb_oof_train)))\n",
    "print(\"RGF-CV: {}\".format(accuracy_score(y_train, rgf_oof_train)))\n",
    "print(\"LGB-CV: {}\".format(accuracy_score(y_train, lg_oof_train)))\n",
    "print(\"GBC-CV: {}\".format(accuracy_score(y_train, gb_oof_train)))\n",
    "print(\"CBC-CV: {}\".format(accuracy_score(y_train, cb_oof_train)))\n",
    "print(\"XGB-CV: {}\".format(accuracy_score(y_train, xgb_oof_train)))"
   ]
  },
  {
   "cell_type": "code",
   "execution_count": null,
   "metadata": {
    "collapsed": true
   },
   "outputs": [],
   "source": []
  },
  {
   "cell_type": "code",
   "execution_count": 37,
   "metadata": {
    "collapsed": true
   },
   "outputs": [],
   "source": [
    "stk_train = np.concatenate((rgf_oof_train, lg_oof_train, gb_oof_train, cb_oof_train, xgb_oof_train), axis=1)\n",
    "stk_test = np.concatenate((rgf_oof_test, lg_oof_test, gb_oof_test, cb_oof_test, xgb_oof_test), axis=1)"
   ]
  },
  {
   "cell_type": "code",
   "execution_count": 38,
   "metadata": {},
   "outputs": [],
   "source": [
    "params = {'learning_rate': 0.02, \n",
    "          'num_leaves':78,\n",
    "          'min_data_in_leaf': 130,\n",
    "          'max_depth': 6, \n",
    "          'colsample_bytree': 0.522,\n",
    "          'boosting': 'gbdt', \n",
    "          'objective': 'binary', \n",
    "          'metric': 'auc',           \n",
    "          'seed': 32}"
   ]
  },
  {
   "cell_type": "code",
   "execution_count": 39,
   "metadata": {
    "collapsed": true
   },
   "outputs": [],
   "source": [
    "lgb_train = lgb.Dataset(stk_train, y_train)\n",
    "model_lgb = lgb.train(params, lgb_train, 1800)   "
   ]
  },
  {
   "cell_type": "code",
   "execution_count": 40,
   "metadata": {
    "collapsed": true
   },
   "outputs": [],
   "source": [
    "pred = model_lgb.predict(stk_test)"
   ]
  },
  {
   "cell_type": "code",
   "execution_count": 41,
   "metadata": {},
   "outputs": [
    {
     "data": {
      "text/html": [
       "<div>\n",
       "<style>\n",
       "    .dataframe thead tr:only-child th {\n",
       "        text-align: right;\n",
       "    }\n",
       "\n",
       "    .dataframe thead th {\n",
       "        text-align: left;\n",
       "    }\n",
       "\n",
       "    .dataframe tbody tr th {\n",
       "        vertical-align: top;\n",
       "    }\n",
       "</style>\n",
       "<table border=\"1\" class=\"dataframe\">\n",
       "  <thead>\n",
       "    <tr style=\"text-align: right;\">\n",
       "      <th></th>\n",
       "      <th>UCIC_ID</th>\n",
       "      <th>Responders</th>\n",
       "    </tr>\n",
       "  </thead>\n",
       "  <tbody>\n",
       "    <tr>\n",
       "      <th>0</th>\n",
       "      <td>337734</td>\n",
       "      <td>0.256060</td>\n",
       "    </tr>\n",
       "    <tr>\n",
       "      <th>1</th>\n",
       "      <td>488166</td>\n",
       "      <td>0.017199</td>\n",
       "    </tr>\n",
       "    <tr>\n",
       "      <th>2</th>\n",
       "      <td>410785</td>\n",
       "      <td>0.041041</td>\n",
       "    </tr>\n",
       "    <tr>\n",
       "      <th>3</th>\n",
       "      <td>389145</td>\n",
       "      <td>0.151335</td>\n",
       "    </tr>\n",
       "    <tr>\n",
       "      <th>4</th>\n",
       "      <td>221090</td>\n",
       "      <td>0.155564</td>\n",
       "    </tr>\n",
       "  </tbody>\n",
       "</table>\n",
       "</div>"
      ],
      "text/plain": [
       "   UCIC_ID  Responders\n",
       "0   337734    0.256060\n",
       "1   488166    0.017199\n",
       "2   410785    0.041041\n",
       "3   389145    0.151335\n",
       "4   221090    0.155564"
      ]
     },
     "execution_count": 41,
     "metadata": {},
     "output_type": "execute_result"
    }
   ],
   "source": [
    "sub = pd.DataFrame({'UCIC_ID':ucic_id, 'Responders':pred})\n",
    "sub = sub[['UCIC_ID','Responders']]\n",
    "sub.head(5)"
   ]
  },
  {
   "cell_type": "code",
   "execution_count": 42,
   "metadata": {
    "collapsed": true
   },
   "outputs": [],
   "source": [
    "sub.to_csv('stacking_v1.csv', index=False)"
   ]
  },
  {
   "cell_type": "code",
   "execution_count": null,
   "metadata": {
    "collapsed": true
   },
   "outputs": [],
   "source": []
  }
 ],
 "metadata": {
  "kernelspec": {
   "display_name": "Python 3",
   "language": "python",
   "name": "python3"
  },
  "language_info": {
   "codemirror_mode": {
    "name": "ipython",
    "version": 3
   },
   "file_extension": ".py",
   "mimetype": "text/x-python",
   "name": "python",
   "nbconvert_exporter": "python",
   "pygments_lexer": "ipython3",
   "version": "3.5.2"
  }
 },
 "nbformat": 4,
 "nbformat_minor": 2
}
