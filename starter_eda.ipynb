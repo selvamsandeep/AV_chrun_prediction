{
 "cells": [
  {
   "cell_type": "code",
   "execution_count": 1,
   "metadata": {
    "scrolled": true
   },
   "outputs": [
    {
     "name": "stderr",
     "output_type": "stream",
     "text": [
      "/usr/local/lib/python3.5/dist-packages/matplotlib/__init__.py:1405: UserWarning: \n",
      "This call to matplotlib.use() has no effect because the backend has already\n",
      "been chosen; matplotlib.use() must be called *before* pylab, matplotlib.pyplot,\n",
      "or matplotlib.backends is imported for the first time.\n",
      "\n",
      "  warnings.warn(_use_error_msg)\n",
      "/usr/local/lib/python3.5/dist-packages/sklearn/cross_validation.py:41: DeprecationWarning: This module was deprecated in version 0.18 in favor of the model_selection module into which all the refactored classes and functions are moved. Also note that the interface of the new CV iterators are different from that of this module. This module will be removed in 0.20.\n",
      "  \"This module will be removed in 0.20.\", DeprecationWarning)\n"
     ]
    },
    {
     "name": "stdout",
     "output_type": "stream",
     "text": [
      "data_dict.xlsx\n",
      "sample_submission_fBo3EW5.csv\n",
      "test_9tJUnaB.zip\n",
      "test.csv\n",
      "train.csv\n",
      "train_zsTMYVA.zip\n",
      "\n"
     ]
    }
   ],
   "source": [
    "import numpy as np\n",
    "import pandas as pd\n",
    "%matplotlib inline\n",
    "import matplotlib.pyplot as plt\n",
    "import pandas_profiling as pd_prof\n",
    "import missingno as misno\n",
    "from sklearn.preprocessing import LabelEncoder\n",
    "from sklearn.model_selection import train_test_split\n",
    "import xgboost as xgb\n",
    "import lightgbm as lgb\n",
    "from subprocess import check_output\n",
    "print(check_output(['ls','input']).decode('utf8'))"
   ]
  },
  {
   "cell_type": "code",
   "execution_count": 2,
   "metadata": {
    "collapsed": true
   },
   "outputs": [],
   "source": [
    "train = pd.read_csv('input/train.csv', low_memory=False)\n",
    "test = pd.read_csv('input/test.csv', low_memory=False)"
   ]
  },
  {
   "cell_type": "code",
   "execution_count": 3,
   "metadata": {},
   "outputs": [
    {
     "name": "stdout",
     "output_type": "stream",
     "text": [
      "(300000, 377) (200000, 376)\n"
     ]
    }
   ],
   "source": [
    "print(train.shape, test.shape)\n"
   ]
  },
  {
   "cell_type": "code",
   "execution_count": 4,
   "metadata": {
    "collapsed": true
   },
   "outputs": [],
   "source": [
    "le = LabelEncoder()\n",
    "data_sets = [train,test]\n",
    "for data in data_sets:\n",
    "    for col in [x for x in data.columns if x not in ['UCIC_ID','Responders']]:\n",
    "        if data[col].dtypes == 'object':\n",
    "            data[col] = data[col].fillna('none')\n",
    "            data[col] = le.fit_transform(data[col])\n",
    "            if data[col].max() < 255:\n",
    "                data[col] = data[col].astype(np.int8)\n",
    "            else:\n",
    "                data[col] = data[col].astype(np.int32)\n",
    "                \n",
    "        if data[col].dtypes == 'int64':        \n",
    "            data[col] = data[col].fillna(-99).astype(np.int32)\n",
    "            \n",
    "        if data[col].dtypes == 'float64':        \n",
    "            data[col] = data[col].fillna(-99.0).astype(np.float32)"
   ]
  },
  {
   "cell_type": "code",
   "execution_count": 5,
   "metadata": {
    "collapsed": true
   },
   "outputs": [],
   "source": [
    "constant_cols = []\n",
    "for col in [x for x in train.columns if x not in ['UCIC_ID','Responders']]:\n",
    "    if len(train[col].value_counts()) == 1:\n",
    "        constant_cols.append(col)"
   ]
  },
  {
   "cell_type": "code",
   "execution_count": 6,
   "metadata": {
    "collapsed": true
   },
   "outputs": [],
   "source": [
    "for data in data_sets:\n",
    "    data.drop(constant_cols, inplace=True, axis=1)"
   ]
  },
  {
   "cell_type": "code",
   "execution_count": 7,
   "metadata": {
    "collapsed": true
   },
   "outputs": [],
   "source": [
    "#test.head(5)"
   ]
  },
  {
   "cell_type": "code",
   "execution_count": 8,
   "metadata": {
    "collapsed": true
   },
   "outputs": [],
   "source": [
    "responders= train['Responders'].values\n",
    "train.drop(['UCIC_ID','Responders'], inplace=True, axis=1)\n",
    "ucic_id = test['UCIC_ID'].values\n",
    "test.drop(['UCIC_ID'], inplace=True, axis=1)"
   ]
  },
  {
   "cell_type": "markdown",
   "metadata": {
    "collapsed": true
   },
   "source": [
    "del data_sets"
   ]
  },
  {
   "cell_type": "code",
   "execution_count": 28,
   "metadata": {
    "collapsed": true
   },
   "outputs": [],
   "source": [
    "params = {'learning_rate': 0.02, \n",
    "          'num_leaves':78,\n",
    "          'min_data_in_leaf': 350, #130\n",
    "          'max_depth': 6, \n",
    "          'colsample_bytree': 0.522,\n",
    "          'boosting': 'gbdt', \n",
    "          'objective': 'binary', \n",
    "          'metric': 'auc',           \n",
    "          'seed': 32}"
   ]
  },
  {
   "cell_type": "code",
   "execution_count": 29,
   "metadata": {
    "collapsed": true
   },
   "outputs": [],
   "source": [
    "lgb_train = lgb.Dataset(train, label=responders)"
   ]
  },
  {
   "cell_type": "code",
   "execution_count": 30,
   "metadata": {},
   "outputs": [
    {
     "name": "stdout",
     "output_type": "stream",
     "text": [
      "[20]\tcv_agg's auc: 0.842172 + 0.00262201\n",
      "[40]\tcv_agg's auc: 0.84442 + 0.00270966\n",
      "[60]\tcv_agg's auc: 0.847431 + 0.00251467\n",
      "[80]\tcv_agg's auc: 0.849422 + 0.00236684\n",
      "[100]\tcv_agg's auc: 0.851445 + 0.00248168\n",
      "[120]\tcv_agg's auc: 0.853149 + 0.00271913\n",
      "[140]\tcv_agg's auc: 0.855154 + 0.00246781\n",
      "[160]\tcv_agg's auc: 0.857767 + 0.00228698\n",
      "[180]\tcv_agg's auc: 0.859703 + 0.0022173\n",
      "[200]\tcv_agg's auc: 0.86077 + 0.0022275\n",
      "[220]\tcv_agg's auc: 0.862089 + 0.00210663\n",
      "[240]\tcv_agg's auc: 0.863123 + 0.00201232\n",
      "[260]\tcv_agg's auc: 0.863934 + 0.00196419\n",
      "[280]\tcv_agg's auc: 0.864587 + 0.00189363\n",
      "[300]\tcv_agg's auc: 0.865101 + 0.00186393\n",
      "[320]\tcv_agg's auc: 0.865544 + 0.00185025\n",
      "[340]\tcv_agg's auc: 0.865919 + 0.0018024\n",
      "[360]\tcv_agg's auc: 0.866265 + 0.00176355\n",
      "[380]\tcv_agg's auc: 0.866595 + 0.00173117\n",
      "[400]\tcv_agg's auc: 0.866884 + 0.00173581\n",
      "[420]\tcv_agg's auc: 0.867152 + 0.00173894\n",
      "[440]\tcv_agg's auc: 0.867378 + 0.00169104\n",
      "[460]\tcv_agg's auc: 0.867559 + 0.00165799\n",
      "[480]\tcv_agg's auc: 0.867773 + 0.00163923\n",
      "[500]\tcv_agg's auc: 0.867937 + 0.00163431\n",
      "[520]\tcv_agg's auc: 0.868086 + 0.00162195\n",
      "[540]\tcv_agg's auc: 0.868218 + 0.00159944\n",
      "[560]\tcv_agg's auc: 0.868374 + 0.00159207\n",
      "[580]\tcv_agg's auc: 0.868502 + 0.00159014\n",
      "[600]\tcv_agg's auc: 0.868628 + 0.0015833\n",
      "[620]\tcv_agg's auc: 0.868758 + 0.00157943\n",
      "[640]\tcv_agg's auc: 0.868873 + 0.0015786\n",
      "[660]\tcv_agg's auc: 0.868973 + 0.00158132\n",
      "[680]\tcv_agg's auc: 0.869036 + 0.0015847\n",
      "[700]\tcv_agg's auc: 0.869125 + 0.00157434\n",
      "[720]\tcv_agg's auc: 0.869215 + 0.00157302\n",
      "[740]\tcv_agg's auc: 0.869278 + 0.00155783\n",
      "[760]\tcv_agg's auc: 0.869342 + 0.00154082\n",
      "[780]\tcv_agg's auc: 0.869431 + 0.00153844\n",
      "[800]\tcv_agg's auc: 0.869474 + 0.00155208\n",
      "[820]\tcv_agg's auc: 0.869547 + 0.00155039\n",
      "[840]\tcv_agg's auc: 0.869618 + 0.00153712\n",
      "[860]\tcv_agg's auc: 0.869657 + 0.00152324\n",
      "[880]\tcv_agg's auc: 0.869733 + 0.00151635\n",
      "[900]\tcv_agg's auc: 0.869783 + 0.00149486\n",
      "[920]\tcv_agg's auc: 0.86983 + 0.00150459\n",
      "[940]\tcv_agg's auc: 0.869865 + 0.00150941\n",
      "[960]\tcv_agg's auc: 0.869932 + 0.00149991\n",
      "[980]\tcv_agg's auc: 0.869999 + 0.00149728\n",
      "[1000]\tcv_agg's auc: 0.870038 + 0.00150254\n",
      "[1020]\tcv_agg's auc: 0.870059 + 0.00149328\n",
      "[1040]\tcv_agg's auc: 0.8701 + 0.00149131\n",
      "[1060]\tcv_agg's auc: 0.870141 + 0.00150064\n",
      "[1080]\tcv_agg's auc: 0.870157 + 0.00149934\n",
      "[1100]\tcv_agg's auc: 0.870193 + 0.00149051\n",
      "[1120]\tcv_agg's auc: 0.870201 + 0.00149291\n",
      "[1140]\tcv_agg's auc: 0.870214 + 0.0015053\n",
      "[1160]\tcv_agg's auc: 0.870255 + 0.00147721\n",
      "[1180]\tcv_agg's auc: 0.870271 + 0.00147198\n",
      "[1200]\tcv_agg's auc: 0.870286 + 0.00147462\n",
      "[1220]\tcv_agg's auc: 0.870317 + 0.00146872\n",
      "[1240]\tcv_agg's auc: 0.87035 + 0.00146534\n",
      "[1260]\tcv_agg's auc: 0.870364 + 0.00146427\n",
      "[1280]\tcv_agg's auc: 0.870381 + 0.00146703\n",
      "[1300]\tcv_agg's auc: 0.870397 + 0.00146196\n",
      "[1320]\tcv_agg's auc: 0.870404 + 0.00146452\n",
      "[1340]\tcv_agg's auc: 0.87043 + 0.00144652\n",
      "[1360]\tcv_agg's auc: 0.870441 + 0.00145019\n",
      "[1380]\tcv_agg's auc: 0.870469 + 0.0014499\n",
      "[1400]\tcv_agg's auc: 0.870492 + 0.00144097\n",
      "[1420]\tcv_agg's auc: 0.870497 + 0.00143554\n",
      "[1440]\tcv_agg's auc: 0.870515 + 0.00143483\n",
      "[1460]\tcv_agg's auc: 0.870535 + 0.001448\n",
      "[1480]\tcv_agg's auc: 0.870544 + 0.00145672\n",
      "[1500]\tcv_agg's auc: 0.870544 + 0.00145413\n",
      "[1520]\tcv_agg's auc: 0.870557 + 0.0014531\n",
      "[1540]\tcv_agg's auc: 0.870563 + 0.00145339\n",
      "[1560]\tcv_agg's auc: 0.870575 + 0.001449\n",
      "[1580]\tcv_agg's auc: 0.870584 + 0.00145623\n",
      "[1600]\tcv_agg's auc: 0.870589 + 0.00145593\n",
      "[1620]\tcv_agg's auc: 0.870601 + 0.00145556\n",
      "[1640]\tcv_agg's auc: 0.870608 + 0.00143881\n",
      "[1660]\tcv_agg's auc: 0.870624 + 0.00144355\n",
      "[1680]\tcv_agg's auc: 0.870637 + 0.00145119\n",
      "[1700]\tcv_agg's auc: 0.870652 + 0.00145048\n",
      "[1720]\tcv_agg's auc: 0.870667 + 0.00144606\n",
      "[1740]\tcv_agg's auc: 0.87067 + 0.00144736\n",
      "[1760]\tcv_agg's auc: 0.87068 + 0.0014472\n",
      "[1780]\tcv_agg's auc: 0.870696 + 0.00144343\n",
      "[1800]\tcv_agg's auc: 0.870703 + 0.00145601\n",
      "[1820]\tcv_agg's auc: 0.870708 + 0.00146718\n",
      "[1840]\tcv_agg's auc: 0.87073 + 0.00147455\n",
      "[1860]\tcv_agg's auc: 0.870738 + 0.00147933\n",
      "[1880]\tcv_agg's auc: 0.870745 + 0.00147835\n",
      "[1900]\tcv_agg's auc: 0.870757 + 0.00148393\n",
      "[1920]\tcv_agg's auc: 0.870769 + 0.0014865\n",
      "[1940]\tcv_agg's auc: 0.870773 + 0.00147219\n",
      "[1960]\tcv_agg's auc: 0.87078 + 0.00147293\n",
      "[1980]\tcv_agg's auc: 0.870779 + 0.00147489\n",
      "[2000]\tcv_agg's auc: 0.870794 + 0.00147674\n",
      "[2020]\tcv_agg's auc: 0.870798 + 0.00146497\n",
      "[2040]\tcv_agg's auc: 0.870792 + 0.00147212\n",
      "[2060]\tcv_agg's auc: 0.870795 + 0.00146954\n"
     ]
    }
   ],
   "source": [
    "lgb_cv = lgb.cv(params, lgb_train, num_boost_round=3000, nfold= 4, shuffle=True, \n",
    "                stratified=True, verbose_eval=20, early_stopping_rounds=40)"
   ]
  },
  {
   "cell_type": "code",
   "execution_count": 31,
   "metadata": {
    "collapsed": true
   },
   "outputs": [],
   "source": [
    "nround = lgb_cv['auc-mean'].index(np.max(lgb_cv['auc-mean']))\n",
    "#print(nround)"
   ]
  },
  {
   "cell_type": "code",
   "execution_count": 32,
   "metadata": {
    "collapsed": true
   },
   "outputs": [],
   "source": [
    "model_0 = lgb.train(params, lgb_train, num_boost_round=nround)"
   ]
  },
  {
   "cell_type": "code",
   "execution_count": 33,
   "metadata": {
    "collapsed": true
   },
   "outputs": [],
   "source": [
    "pred_0 = model_0.predict(test)"
   ]
  },
  {
   "cell_type": "code",
   "execution_count": 34,
   "metadata": {
    "collapsed": true
   },
   "outputs": [],
   "source": [
    "future_df = pd.DataFrame({'futures':model_0.feature_name(),'score':model_0.feature_importance()})\n",
    "col_to_use = future_df[future_df['score'] > 50]['futures'].tolist()\n"
   ]
  },
  {
   "cell_type": "code",
   "execution_count": 35,
   "metadata": {
    "collapsed": true
   },
   "outputs": [],
   "source": [
    "lgb_train = lgb.Dataset(train[col_to_use], label=responders)"
   ]
  },
  {
   "cell_type": "code",
   "execution_count": 36,
   "metadata": {},
   "outputs": [
    {
     "name": "stdout",
     "output_type": "stream",
     "text": [
      "[20]\tcv_agg's auc: 0.840249 + 0.00285866\n",
      "[40]\tcv_agg's auc: 0.844132 + 0.00281133\n",
      "[60]\tcv_agg's auc: 0.846308 + 0.00278241\n",
      "[80]\tcv_agg's auc: 0.848654 + 0.00245756\n",
      "[100]\tcv_agg's auc: 0.850719 + 0.0024977\n",
      "[120]\tcv_agg's auc: 0.853075 + 0.00254916\n",
      "[140]\tcv_agg's auc: 0.854882 + 0.00249501\n",
      "[160]\tcv_agg's auc: 0.856401 + 0.00244452\n",
      "[180]\tcv_agg's auc: 0.858619 + 0.00228509\n",
      "[200]\tcv_agg's auc: 0.860184 + 0.00217217\n",
      "[220]\tcv_agg's auc: 0.861677 + 0.00214147\n",
      "[240]\tcv_agg's auc: 0.862747 + 0.00209752\n",
      "[260]\tcv_agg's auc: 0.863635 + 0.00206858\n",
      "[280]\tcv_agg's auc: 0.864338 + 0.00204912\n",
      "[300]\tcv_agg's auc: 0.864891 + 0.00201582\n",
      "[320]\tcv_agg's auc: 0.865401 + 0.00197399\n",
      "[340]\tcv_agg's auc: 0.86581 + 0.00192605\n",
      "[360]\tcv_agg's auc: 0.866159 + 0.00190783\n",
      "[380]\tcv_agg's auc: 0.866488 + 0.00187883\n",
      "[400]\tcv_agg's auc: 0.866798 + 0.00185308\n",
      "[420]\tcv_agg's auc: 0.867024 + 0.00182971\n",
      "[440]\tcv_agg's auc: 0.86729 + 0.00184141\n",
      "[460]\tcv_agg's auc: 0.867516 + 0.00179184\n",
      "[480]\tcv_agg's auc: 0.867703 + 0.00178049\n",
      "[500]\tcv_agg's auc: 0.867856 + 0.00179412\n",
      "[520]\tcv_agg's auc: 0.86802 + 0.00179602\n",
      "[540]\tcv_agg's auc: 0.868166 + 0.00179608\n",
      "[560]\tcv_agg's auc: 0.868263 + 0.00177065\n",
      "[580]\tcv_agg's auc: 0.868413 + 0.00175683\n",
      "[600]\tcv_agg's auc: 0.86855 + 0.00175688\n",
      "[620]\tcv_agg's auc: 0.868678 + 0.00171927\n",
      "[640]\tcv_agg's auc: 0.86879 + 0.00169597\n",
      "[660]\tcv_agg's auc: 0.868923 + 0.00170648\n",
      "[680]\tcv_agg's auc: 0.869001 + 0.00168036\n",
      "[700]\tcv_agg's auc: 0.869115 + 0.00167539\n",
      "[720]\tcv_agg's auc: 0.86919 + 0.0016863\n",
      "[740]\tcv_agg's auc: 0.869281 + 0.00169147\n",
      "[760]\tcv_agg's auc: 0.869361 + 0.00167568\n",
      "[780]\tcv_agg's auc: 0.869422 + 0.00167645\n",
      "[800]\tcv_agg's auc: 0.869485 + 0.00167695\n",
      "[820]\tcv_agg's auc: 0.869534 + 0.00166206\n",
      "[840]\tcv_agg's auc: 0.869608 + 0.00165897\n",
      "[860]\tcv_agg's auc: 0.869698 + 0.00162331\n",
      "[880]\tcv_agg's auc: 0.869762 + 0.00162718\n",
      "[900]\tcv_agg's auc: 0.869816 + 0.00161111\n",
      "[920]\tcv_agg's auc: 0.869848 + 0.00161995\n",
      "[940]\tcv_agg's auc: 0.869898 + 0.00160748\n",
      "[960]\tcv_agg's auc: 0.869934 + 0.00159093\n",
      "[980]\tcv_agg's auc: 0.869966 + 0.00159707\n",
      "[1000]\tcv_agg's auc: 0.869995 + 0.00158513\n",
      "[1020]\tcv_agg's auc: 0.870026 + 0.00157888\n",
      "[1040]\tcv_agg's auc: 0.870059 + 0.00158374\n",
      "[1060]\tcv_agg's auc: 0.870081 + 0.00158958\n",
      "[1080]\tcv_agg's auc: 0.870128 + 0.00159285\n",
      "[1100]\tcv_agg's auc: 0.870148 + 0.0015926\n",
      "[1120]\tcv_agg's auc: 0.870176 + 0.00158652\n",
      "[1140]\tcv_agg's auc: 0.870222 + 0.001612\n",
      "[1160]\tcv_agg's auc: 0.87026 + 0.00160891\n",
      "[1180]\tcv_agg's auc: 0.870291 + 0.00160719\n",
      "[1200]\tcv_agg's auc: 0.870324 + 0.00160397\n",
      "[1220]\tcv_agg's auc: 0.870336 + 0.00158929\n",
      "[1240]\tcv_agg's auc: 0.870352 + 0.00159547\n",
      "[1260]\tcv_agg's auc: 0.870382 + 0.00159361\n",
      "[1280]\tcv_agg's auc: 0.870395 + 0.00158871\n",
      "[1300]\tcv_agg's auc: 0.870411 + 0.00157729\n",
      "[1320]\tcv_agg's auc: 0.870433 + 0.0015627\n",
      "[1340]\tcv_agg's auc: 0.870427 + 0.00156623\n",
      "[1360]\tcv_agg's auc: 0.870456 + 0.00156793\n",
      "[1380]\tcv_agg's auc: 0.870473 + 0.00156622\n",
      "[1400]\tcv_agg's auc: 0.870479 + 0.00156464\n",
      "[1420]\tcv_agg's auc: 0.870495 + 0.00154213\n",
      "[1440]\tcv_agg's auc: 0.8705 + 0.00153746\n",
      "[1460]\tcv_agg's auc: 0.870504 + 0.00154458\n",
      "[1480]\tcv_agg's auc: 0.870519 + 0.00155295\n",
      "[1500]\tcv_agg's auc: 0.870531 + 0.00155556\n",
      "[1520]\tcv_agg's auc: 0.87054 + 0.00156032\n",
      "[1540]\tcv_agg's auc: 0.870553 + 0.0015716\n",
      "[1560]\tcv_agg's auc: 0.87056 + 0.00157187\n",
      "[1580]\tcv_agg's auc: 0.87056 + 0.00157954\n",
      "[1600]\tcv_agg's auc: 0.870579 + 0.00158478\n",
      "[1620]\tcv_agg's auc: 0.870589 + 0.00158629\n",
      "[1640]\tcv_agg's auc: 0.870603 + 0.00158001\n",
      "[1660]\tcv_agg's auc: 0.870619 + 0.00157701\n",
      "[1680]\tcv_agg's auc: 0.870623 + 0.00158631\n",
      "[1700]\tcv_agg's auc: 0.870631 + 0.00159411\n",
      "[1720]\tcv_agg's auc: 0.870635 + 0.00159922\n",
      "[1740]\tcv_agg's auc: 0.870636 + 0.0015945\n",
      "[1760]\tcv_agg's auc: 0.870642 + 0.0015867\n",
      "[1780]\tcv_agg's auc: 0.870643 + 0.00158705\n",
      "[1800]\tcv_agg's auc: 0.870649 + 0.00160261\n",
      "[1820]\tcv_agg's auc: 0.870649 + 0.00159758\n",
      "[1840]\tcv_agg's auc: 0.870655 + 0.00159327\n",
      "[1860]\tcv_agg's auc: 0.87066 + 0.00158596\n",
      "[1880]\tcv_agg's auc: 0.870662 + 0.00158242\n",
      "[1900]\tcv_agg's auc: 0.870671 + 0.00157357\n",
      "[1920]\tcv_agg's auc: 0.870679 + 0.00158271\n",
      "[1940]\tcv_agg's auc: 0.870687 + 0.00158521\n",
      "[1960]\tcv_agg's auc: 0.870691 + 0.00157976\n",
      "[1980]\tcv_agg's auc: 0.870697 + 0.00157935\n",
      "[2000]\tcv_agg's auc: 0.870706 + 0.00156644\n",
      "[2020]\tcv_agg's auc: 0.870696 + 0.00157056\n",
      "[2040]\tcv_agg's auc: 0.870699 + 0.00157392\n"
     ]
    }
   ],
   "source": [
    "lgb_cv = lgb.cv(params, lgb_train, num_boost_round=3000, nfold= 4, shuffle=True, \n",
    "                stratified=True, verbose_eval=20, early_stopping_rounds=40)"
   ]
  },
  {
   "cell_type": "code",
   "execution_count": 37,
   "metadata": {
    "collapsed": true
   },
   "outputs": [],
   "source": [
    "nround = lgb_cv['auc-mean'].index(np.max(lgb_cv['auc-mean']))"
   ]
  },
  {
   "cell_type": "code",
   "execution_count": 38,
   "metadata": {
    "collapsed": true
   },
   "outputs": [],
   "source": [
    "model_1 = lgb.train(params, lgb_train, num_boost_round=nround)"
   ]
  },
  {
   "cell_type": "code",
   "execution_count": 39,
   "metadata": {
    "collapsed": true
   },
   "outputs": [],
   "source": [
    "pred_1 = model_1.predict(test[col_to_use])"
   ]
  },
  {
   "cell_type": "code",
   "execution_count": 40,
   "metadata": {},
   "outputs": [
    {
     "data": {
      "text/html": [
       "<div>\n",
       "<style>\n",
       "    .dataframe thead tr:only-child th {\n",
       "        text-align: right;\n",
       "    }\n",
       "\n",
       "    .dataframe thead th {\n",
       "        text-align: left;\n",
       "    }\n",
       "\n",
       "    .dataframe tbody tr th {\n",
       "        vertical-align: top;\n",
       "    }\n",
       "</style>\n",
       "<table border=\"1\" class=\"dataframe\">\n",
       "  <thead>\n",
       "    <tr style=\"text-align: right;\">\n",
       "      <th></th>\n",
       "      <th>UCIC_ID</th>\n",
       "      <th>Responders</th>\n",
       "    </tr>\n",
       "  </thead>\n",
       "  <tbody>\n",
       "    <tr>\n",
       "      <th>0</th>\n",
       "      <td>337734</td>\n",
       "      <td>0.283057</td>\n",
       "    </tr>\n",
       "    <tr>\n",
       "      <th>1</th>\n",
       "      <td>488166</td>\n",
       "      <td>0.025274</td>\n",
       "    </tr>\n",
       "    <tr>\n",
       "      <th>2</th>\n",
       "      <td>410785</td>\n",
       "      <td>0.038830</td>\n",
       "    </tr>\n",
       "    <tr>\n",
       "      <th>3</th>\n",
       "      <td>389145</td>\n",
       "      <td>0.110002</td>\n",
       "    </tr>\n",
       "    <tr>\n",
       "      <th>4</th>\n",
       "      <td>221090</td>\n",
       "      <td>0.163467</td>\n",
       "    </tr>\n",
       "  </tbody>\n",
       "</table>\n",
       "</div>"
      ],
      "text/plain": [
       "   UCIC_ID  Responders\n",
       "0   337734    0.283057\n",
       "1   488166    0.025274\n",
       "2   410785    0.038830\n",
       "3   389145    0.110002\n",
       "4   221090    0.163467"
      ]
     },
     "execution_count": 40,
     "metadata": {},
     "output_type": "execute_result"
    }
   ],
   "source": [
    "sub = pd.DataFrame({'UCIC_ID':ucic_id, 'Responders':(pred_0 + pred_1)/2.})\n",
    "sub = sub[['UCIC_ID','Responders']]\n",
    "sub.head(5)"
   ]
  },
  {
   "cell_type": "code",
   "execution_count": 41,
   "metadata": {
    "collapsed": true
   },
   "outputs": [],
   "source": [
    "sub.to_csv('lgb_v12.csv', index=False)"
   ]
  },
  {
   "cell_type": "code",
   "execution_count": null,
   "metadata": {
    "collapsed": true
   },
   "outputs": [],
   "source": []
  }
 ],
 "metadata": {
  "kernelspec": {
   "display_name": "Python 3",
   "language": "python",
   "name": "python3"
  },
  "language_info": {
   "codemirror_mode": {
    "name": "ipython",
    "version": 3
   },
   "file_extension": ".py",
   "mimetype": "text/x-python",
   "name": "python",
   "nbconvert_exporter": "python",
   "pygments_lexer": "ipython3",
   "version": "3.5.2"
  }
 },
 "nbformat": 4,
 "nbformat_minor": 2
}
